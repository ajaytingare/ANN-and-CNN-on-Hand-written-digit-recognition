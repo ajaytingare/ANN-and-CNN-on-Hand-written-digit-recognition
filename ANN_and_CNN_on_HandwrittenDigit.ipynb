{
  "nbformat": 4,
  "nbformat_minor": 0,
  "metadata": {
    "colab": {
      "provenance": []
    },
    "kernelspec": {
      "name": "python3",
      "display_name": "Python 3"
    },
    "language_info": {
      "name": "python"
    }
  },
  "cells": [
    {
      "cell_type": "markdown",
      "source": [
        "# ANN and CNN on Hand-written digit recognition"
      ],
      "metadata": {
        "id": "saXGSm5uOv_R"
      }
    },
    {
      "cell_type": "code",
      "execution_count": null,
      "metadata": {
        "id": "GqUcfoD8BGf4"
      },
      "outputs": [],
      "source": [
        "#######################################################################\n",
        "import tensorflow as tf\n",
        "from tensorflow import keras\n",
        "import matplotlib.pyplot as plt\n",
        "import numpy as np"
      ]
    },
    {
      "cell_type": "code",
      "source": [
        "#######################################################################\n",
        "(X_train , y_train) , (X_test, y_test ) = keras.datasets.mnist.load_data()"
      ],
      "metadata": {
        "id": "d6dAJ0X61U-H",
        "colab": {
          "base_uri": "https://localhost:8080/"
        },
        "outputId": "0a3dd649-da48-426d-d4cc-c8b7d891a986"
      },
      "execution_count": null,
      "outputs": [
        {
          "output_type": "stream",
          "name": "stdout",
          "text": [
            "Downloading data from https://storage.googleapis.com/tensorflow/tf-keras-datasets/mnist.npz\n",
            "\u001b[1m11490434/11490434\u001b[0m \u001b[32m━━━━━━━━━━━━━━━━━━━━\u001b[0m\u001b[37m\u001b[0m \u001b[1m0s\u001b[0m 0us/step\n"
          ]
        }
      ]
    },
    {
      "cell_type": "code",
      "source": [
        "print(len(X_train))\n",
        "print(len(X_test))\n",
        "print(len(y_train))\n",
        "print(len(y_test))"
      ],
      "metadata": {
        "colab": {
          "base_uri": "https://localhost:8080/"
        },
        "id": "710Yo17Y1VFl",
        "outputId": "acc99fe8-c019-4689-af3c-8ca226928084"
      },
      "execution_count": null,
      "outputs": [
        {
          "output_type": "stream",
          "name": "stdout",
          "text": [
            "60000\n",
            "10000\n",
            "60000\n",
            "10000\n"
          ]
        }
      ]
    },
    {
      "cell_type": "code",
      "source": [
        "print(X_train.shape)\n",
        "print(X_test.shape)\n",
        "print(y_train.shape)\n",
        "print(y_test.shape)"
      ],
      "metadata": {
        "id": "sC3ZALKQCkZm",
        "colab": {
          "base_uri": "https://localhost:8080/"
        },
        "outputId": "0183bc9d-921a-4715-892c-9411bd36d04a"
      },
      "execution_count": null,
      "outputs": [
        {
          "output_type": "stream",
          "name": "stdout",
          "text": [
            "(60000, 28, 28)\n",
            "(10000, 28, 28)\n",
            "(60000,)\n",
            "(10000,)\n"
          ]
        }
      ]
    },
    {
      "cell_type": "code",
      "source": [
        "X_train[0].shape"
      ],
      "metadata": {
        "id": "LmJTW9OeCyZW",
        "colab": {
          "base_uri": "https://localhost:8080/"
        },
        "outputId": "ea4814a7-44a8-4873-dcf2-e6278cf61ec3"
      },
      "execution_count": null,
      "outputs": [
        {
          "output_type": "execute_result",
          "data": {
            "text/plain": [
              "(28, 28)"
            ]
          },
          "metadata": {},
          "execution_count": 31
        }
      ]
    },
    {
      "cell_type": "code",
      "source": [
        "print(X_train[0])"
      ],
      "metadata": {
        "id": "6hhTLIxxCybW",
        "colab": {
          "base_uri": "https://localhost:8080/"
        },
        "outputId": "dd944261-3df3-45f9-ec60-b9c18ff174f4"
      },
      "execution_count": null,
      "outputs": [
        {
          "output_type": "stream",
          "name": "stdout",
          "text": [
            "[[  0   0   0   0   0   0   0   0   0   0   0   0   0   0   0   0   0   0\n",
            "    0   0   0   0   0   0   0   0   0   0]\n",
            " [  0   0   0   0   0   0   0   0   0   0   0   0   0   0   0   0   0   0\n",
            "    0   0   0   0   0   0   0   0   0   0]\n",
            " [  0   0   0   0   0   0   0   0   0   0   0   0   0   0   0   0   0   0\n",
            "    0   0   0   0   0   0   0   0   0   0]\n",
            " [  0   0   0   0   0   0   0   0   0   0   0   0   0   0   0   0   0   0\n",
            "    0   0   0   0   0   0   0   0   0   0]\n",
            " [  0   0   0   0   0   0   0   0   0   0   0   0   0   0   0   0   0   0\n",
            "    0   0   0   0   0   0   0   0   0   0]\n",
            " [  0   0   0   0   0   0   0   0   0   0   0   0   3  18  18  18 126 136\n",
            "  175  26 166 255 247 127   0   0   0   0]\n",
            " [  0   0   0   0   0   0   0   0  30  36  94 154 170 253 253 253 253 253\n",
            "  225 172 253 242 195  64   0   0   0   0]\n",
            " [  0   0   0   0   0   0   0  49 238 253 253 253 253 253 253 253 253 251\n",
            "   93  82  82  56  39   0   0   0   0   0]\n",
            " [  0   0   0   0   0   0   0  18 219 253 253 253 253 253 198 182 247 241\n",
            "    0   0   0   0   0   0   0   0   0   0]\n",
            " [  0   0   0   0   0   0   0   0  80 156 107 253 253 205  11   0  43 154\n",
            "    0   0   0   0   0   0   0   0   0   0]\n",
            " [  0   0   0   0   0   0   0   0   0  14   1 154 253  90   0   0   0   0\n",
            "    0   0   0   0   0   0   0   0   0   0]\n",
            " [  0   0   0   0   0   0   0   0   0   0   0 139 253 190   2   0   0   0\n",
            "    0   0   0   0   0   0   0   0   0   0]\n",
            " [  0   0   0   0   0   0   0   0   0   0   0  11 190 253  70   0   0   0\n",
            "    0   0   0   0   0   0   0   0   0   0]\n",
            " [  0   0   0   0   0   0   0   0   0   0   0   0  35 241 225 160 108   1\n",
            "    0   0   0   0   0   0   0   0   0   0]\n",
            " [  0   0   0   0   0   0   0   0   0   0   0   0   0  81 240 253 253 119\n",
            "   25   0   0   0   0   0   0   0   0   0]\n",
            " [  0   0   0   0   0   0   0   0   0   0   0   0   0   0  45 186 253 253\n",
            "  150  27   0   0   0   0   0   0   0   0]\n",
            " [  0   0   0   0   0   0   0   0   0   0   0   0   0   0   0  16  93 252\n",
            "  253 187   0   0   0   0   0   0   0   0]\n",
            " [  0   0   0   0   0   0   0   0   0   0   0   0   0   0   0   0   0 249\n",
            "  253 249  64   0   0   0   0   0   0   0]\n",
            " [  0   0   0   0   0   0   0   0   0   0   0   0   0   0  46 130 183 253\n",
            "  253 207   2   0   0   0   0   0   0   0]\n",
            " [  0   0   0   0   0   0   0   0   0   0   0   0  39 148 229 253 253 253\n",
            "  250 182   0   0   0   0   0   0   0   0]\n",
            " [  0   0   0   0   0   0   0   0   0   0  24 114 221 253 253 253 253 201\n",
            "   78   0   0   0   0   0   0   0   0   0]\n",
            " [  0   0   0   0   0   0   0   0  23  66 213 253 253 253 253 198  81   2\n",
            "    0   0   0   0   0   0   0   0   0   0]\n",
            " [  0   0   0   0   0   0  18 171 219 253 253 253 253 195  80   9   0   0\n",
            "    0   0   0   0   0   0   0   0   0   0]\n",
            " [  0   0   0   0  55 172 226 253 253 253 253 244 133  11   0   0   0   0\n",
            "    0   0   0   0   0   0   0   0   0   0]\n",
            " [  0   0   0   0 136 253 253 253 212 135 132  16   0   0   0   0   0   0\n",
            "    0   0   0   0   0   0   0   0   0   0]\n",
            " [  0   0   0   0   0   0   0   0   0   0   0   0   0   0   0   0   0   0\n",
            "    0   0   0   0   0   0   0   0   0   0]\n",
            " [  0   0   0   0   0   0   0   0   0   0   0   0   0   0   0   0   0   0\n",
            "    0   0   0   0   0   0   0   0   0   0]\n",
            " [  0   0   0   0   0   0   0   0   0   0   0   0   0   0   0   0   0   0\n",
            "    0   0   0   0   0   0   0   0   0   0]]\n"
          ]
        }
      ]
    },
    {
      "cell_type": "code",
      "source": [
        "# we can see the digit in the image(represented in numbers from 0 to 255)\n",
        "for i in X_train[0]:\n",
        "  for j in i:\n",
        "    print(f'{j: < 5}',end = '')\n",
        "  print()"
      ],
      "metadata": {
        "colab": {
          "base_uri": "https://localhost:8080/"
        },
        "id": "UnmVNH42WNEb",
        "outputId": "06ad5146-8161-44fe-e75b-6a93d8380f4b"
      },
      "execution_count": null,
      "outputs": [
        {
          "output_type": "stream",
          "name": "stdout",
          "text": [
            " 0    0    0    0    0    0    0    0    0    0    0    0    0    0    0    0    0    0    0    0    0    0    0    0    0    0    0    0   \n",
            " 0    0    0    0    0    0    0    0    0    0    0    0    0    0    0    0    0    0    0    0    0    0    0    0    0    0    0    0   \n",
            " 0    0    0    0    0    0    0    0    0    0    0    0    0    0    0    0    0    0    0    0    0    0    0    0    0    0    0    0   \n",
            " 0    0    0    0    0    0    0    0    0    0    0    0    0    0    0    0    0    0    0    0    0    0    0    0    0    0    0    0   \n",
            " 0    0    0    0    0    0    0    0    0    0    0    0    0    0    0    0    0    0    0    0    0    0    0    0    0    0    0    0   \n",
            " 0    0    0    0    0    0    0    0    0    0    0    0    3    18   18   18   126  136  175  26   166  255  247  127  0    0    0    0   \n",
            " 0    0    0    0    0    0    0    0    30   36   94   154  170  253  253  253  253  253  225  172  253  242  195  64   0    0    0    0   \n",
            " 0    0    0    0    0    0    0    49   238  253  253  253  253  253  253  253  253  251  93   82   82   56   39   0    0    0    0    0   \n",
            " 0    0    0    0    0    0    0    18   219  253  253  253  253  253  198  182  247  241  0    0    0    0    0    0    0    0    0    0   \n",
            " 0    0    0    0    0    0    0    0    80   156  107  253  253  205  11   0    43   154  0    0    0    0    0    0    0    0    0    0   \n",
            " 0    0    0    0    0    0    0    0    0    14   1    154  253  90   0    0    0    0    0    0    0    0    0    0    0    0    0    0   \n",
            " 0    0    0    0    0    0    0    0    0    0    0    139  253  190  2    0    0    0    0    0    0    0    0    0    0    0    0    0   \n",
            " 0    0    0    0    0    0    0    0    0    0    0    11   190  253  70   0    0    0    0    0    0    0    0    0    0    0    0    0   \n",
            " 0    0    0    0    0    0    0    0    0    0    0    0    35   241  225  160  108  1    0    0    0    0    0    0    0    0    0    0   \n",
            " 0    0    0    0    0    0    0    0    0    0    0    0    0    81   240  253  253  119  25   0    0    0    0    0    0    0    0    0   \n",
            " 0    0    0    0    0    0    0    0    0    0    0    0    0    0    45   186  253  253  150  27   0    0    0    0    0    0    0    0   \n",
            " 0    0    0    0    0    0    0    0    0    0    0    0    0    0    0    16   93   252  253  187  0    0    0    0    0    0    0    0   \n",
            " 0    0    0    0    0    0    0    0    0    0    0    0    0    0    0    0    0    249  253  249  64   0    0    0    0    0    0    0   \n",
            " 0    0    0    0    0    0    0    0    0    0    0    0    0    0    46   130  183  253  253  207  2    0    0    0    0    0    0    0   \n",
            " 0    0    0    0    0    0    0    0    0    0    0    0    39   148  229  253  253  253  250  182  0    0    0    0    0    0    0    0   \n",
            " 0    0    0    0    0    0    0    0    0    0    24   114  221  253  253  253  253  201  78   0    0    0    0    0    0    0    0    0   \n",
            " 0    0    0    0    0    0    0    0    23   66   213  253  253  253  253  198  81   2    0    0    0    0    0    0    0    0    0    0   \n",
            " 0    0    0    0    0    0    18   171  219  253  253  253  253  195  80   9    0    0    0    0    0    0    0    0    0    0    0    0   \n",
            " 0    0    0    0    55   172  226  253  253  253  253  244  133  11   0    0    0    0    0    0    0    0    0    0    0    0    0    0   \n",
            " 0    0    0    0    136  253  253  253  212  135  132  16   0    0    0    0    0    0    0    0    0    0    0    0    0    0    0    0   \n",
            " 0    0    0    0    0    0    0    0    0    0    0    0    0    0    0    0    0    0    0    0    0    0    0    0    0    0    0    0   \n",
            " 0    0    0    0    0    0    0    0    0    0    0    0    0    0    0    0    0    0    0    0    0    0    0    0    0    0    0    0   \n",
            " 0    0    0    0    0    0    0    0    0    0    0    0    0    0    0    0    0    0    0    0    0    0    0    0    0    0    0    0   \n"
          ]
        }
      ]
    },
    {
      "cell_type": "code",
      "source": [
        "#######################################################################\n",
        "#ploting first trainning image\n",
        "import matplotlib.pyplot as plt\n",
        "\n",
        "plt.figure(figsize=(3, 1))  # Set the figure size to (width, height)\n",
        "\n",
        "plt.subplot(1, 3, 1)  # 1 row, 3 columns, first subplot\n",
        "plt.matshow(X_train[0], cmap='gray', fignum=False)\n",
        "\n",
        "plt.subplot(1, 3, 2)  # 1 row, 3 columns, second subplot\n",
        "plt.matshow(X_train[1], cmap='gray', fignum=False)\n",
        "\n",
        "plt.subplot(1, 3, 3)  # 1 row, 3 columns, third subplot\n",
        "plt.matshow(X_train[2], cmap='gray', fignum=False)\n",
        "\n",
        "plt.show()\n"
      ],
      "metadata": {
        "id": "w_JzjSgQCygO",
        "colab": {
          "base_uri": "https://localhost:8080/",
          "height": 133
        },
        "outputId": "c03bac73-8bd2-4b78-b47c-8fea438edf41"
      },
      "execution_count": null,
      "outputs": [
        {
          "output_type": "display_data",
          "data": {
            "text/plain": [
              "<Figure size 300x100 with 3 Axes>"
            ],
            "image/png": "[encoded data removed]"
          },
          "metadata": {}
        }
      ]
    },
    {
      "cell_type": "code",
      "source": [
        "#######################################################################\n",
        "#labels\n",
        "print(y_train[0])\n",
        "print(y_train[1])\n",
        "print(y_train[2])"
      ],
      "metadata": {
        "colab": {
          "base_uri": "https://localhost:8080/"
        },
        "id": "2njaRSZB4Mnz",
        "outputId": "63f4d33e-48db-4473-a1e1-aa60698b30cc"
      },
      "execution_count": null,
      "outputs": [
        {
          "output_type": "stream",
          "name": "stdout",
          "text": [
            "5\n",
            "0\n",
            "4\n"
          ]
        }
      ]
    },
    {
      "cell_type": "code",
      "source": [
        "X_train.shape"
      ],
      "metadata": {
        "colab": {
          "base_uri": "https://localhost:8080/"
        },
        "id": "kJSlI0HGAi9L",
        "outputId": "a6e6d047-be1b-4557-85b5-31787edba23a"
      },
      "execution_count": null,
      "outputs": [
        {
          "output_type": "execute_result",
          "data": {
            "text/plain": [
              "(60000, 28, 28)"
            ]
          },
          "metadata": {},
          "execution_count": 18
        }
      ]
    },
    {
      "cell_type": "code",
      "source": [
        "#######################################################################\n",
        "#normalizing between 0 and 1\n",
        "X_train = X_train / 255\n",
        "X_test = X_test /255"
      ],
      "metadata": {
        "id": "7dvo5JAfEcWI"
      },
      "execution_count": null,
      "outputs": []
    },
    {
      "cell_type": "code",
      "source": [
        "for i in X_train[0]:\n",
        "  for j in i:\n",
        "    print(f'{j: < 21}',end = '')\n",
        "  print()"
      ],
      "metadata": {
        "colab": {
          "base_uri": "https://localhost:8080/"
        },
        "id": "-d_4b1NGBDRG",
        "outputId": "f4ee9c1a-a313-45ae-cbc5-321997d743ce"
      },
      "execution_count": null,
      "outputs": [
        {
          "output_type": "stream",
          "name": "stdout",
          "text": [
            " 0.0                  0.0                  0.0                  0.0                  0.0                  0.0                  0.0                  0.0                  0.0                  0.0                  0.0                  0.0                  0.0                  0.0                  0.0                  0.0                  0.0                  0.0                  0.0                  0.0                  0.0                  0.0                  0.0                  0.0                  0.0                  0.0                  0.0                  0.0                 \n",
            " 0.0                  0.0                  0.0                  0.0                  0.0                  0.0                  0.0                  0.0                  0.0                  0.0                  0.0                  0.0                  0.0                  0.0                  0.0                  0.0                  0.0                  0.0                  0.0                  0.0                  0.0                  0.0                  0.0                  0.0                  0.0                  0.0                  0.0                  0.0                 \n",
            " 0.0                  0.0                  0.0                  0.0                  0.0                  0.0                  0.0                  0.0                  0.0                  0.0                  0.0                  0.0                  0.0                  0.0                  0.0                  0.0                  0.0                  0.0                  0.0                  0.0                  0.0                  0.0                  0.0                  0.0                  0.0                  0.0                  0.0                  0.0                 \n",
            " 0.0                  0.0                  0.0                  0.0                  0.0                  0.0                  0.0                  0.0                  0.0                  0.0                  0.0                  0.0                  0.0                  0.0                  0.0                  0.0                  0.0                  0.0                  0.0                  0.0                  0.0                  0.0                  0.0                  0.0                  0.0                  0.0                  0.0                  0.0                 \n",
            " 0.0                  0.0                  0.0                  0.0                  0.0                  0.0                  0.0                  0.0                  0.0                  0.0                  0.0                  0.0                  0.0                  0.0                  0.0                  0.0                  0.0                  0.0                  0.0                  0.0                  0.0                  0.0                  0.0                  0.0                  0.0                  0.0                  0.0                  0.0                 \n",
            " 0.0                  0.0                  0.0                  0.0                  0.0                  0.0                  0.0                  0.0                  0.0                  0.0                  0.0                  0.0                  0.011764705882352941 0.07058823529411765  0.07058823529411765  0.07058823529411765  0.49411764705882355  0.5333333333333333   0.6862745098039216   0.10196078431372549  0.6509803921568628   1.0                  0.9686274509803922   0.4980392156862745   0.0                  0.0                  0.0                  0.0                 \n",
            " 0.0                  0.0                  0.0                  0.0                  0.0                  0.0                  0.0                  0.0                  0.11764705882352941  0.1411764705882353   0.3686274509803922   0.6039215686274509   0.6666666666666666   0.9921568627450981   0.9921568627450981   0.9921568627450981   0.9921568627450981   0.9921568627450981   0.8823529411764706   0.6745098039215687   0.9921568627450981   0.9490196078431372   0.7647058823529411   0.25098039215686274  0.0                  0.0                  0.0                  0.0                 \n",
            " 0.0                  0.0                  0.0                  0.0                  0.0                  0.0                  0.0                  0.19215686274509805  0.9333333333333333   0.9921568627450981   0.9921568627450981   0.9921568627450981   0.9921568627450981   0.9921568627450981   0.9921568627450981   0.9921568627450981   0.9921568627450981   0.984313725490196    0.36470588235294116  0.3215686274509804   0.3215686274509804   0.2196078431372549   0.15294117647058825  0.0                  0.0                  0.0                  0.0                  0.0                 \n",
            " 0.0                  0.0                  0.0                  0.0                  0.0                  0.0                  0.0                  0.07058823529411765  0.8588235294117647   0.9921568627450981   0.9921568627450981   0.9921568627450981   0.9921568627450981   0.9921568627450981   0.7764705882352941   0.7137254901960784   0.9686274509803922   0.9450980392156862   0.0                  0.0                  0.0                  0.0                  0.0                  0.0                  0.0                  0.0                  0.0                  0.0                 \n",
            " 0.0                  0.0                  0.0                  0.0                  0.0                  0.0                  0.0                  0.0                  0.3137254901960784   0.611764705882353    0.4196078431372549   0.9921568627450981   0.9921568627450981   0.803921568627451    0.043137254901960784 0.0                  0.16862745098039217  0.6039215686274509   0.0                  0.0                  0.0                  0.0                  0.0                  0.0                  0.0                  0.0                  0.0                  0.0                 \n",
            " 0.0                  0.0                  0.0                  0.0                  0.0                  0.0                  0.0                  0.0                  0.0                  0.054901960784313725 0.00392156862745098  0.6039215686274509   0.9921568627450981   0.35294117647058826  0.0                  0.0                  0.0                  0.0                  0.0                  0.0                  0.0                  0.0                  0.0                  0.0                  0.0                  0.0                  0.0                  0.0                 \n",
            " 0.0                  0.0                  0.0                  0.0                  0.0                  0.0                  0.0                  0.0                  0.0                  0.0                  0.0                  0.5450980392156862   0.9921568627450981   0.7450980392156863   0.00784313725490196  0.0                  0.0                  0.0                  0.0                  0.0                  0.0                  0.0                  0.0                  0.0                  0.0                  0.0                  0.0                  0.0                 \n",
            " 0.0                  0.0                  0.0                  0.0                  0.0                  0.0                  0.0                  0.0                  0.0                  0.0                  0.0                  0.043137254901960784 0.7450980392156863   0.9921568627450981   0.27450980392156865  0.0                  0.0                  0.0                  0.0                  0.0                  0.0                  0.0                  0.0                  0.0                  0.0                  0.0                  0.0                  0.0                 \n",
            " 0.0                  0.0                  0.0                  0.0                  0.0                  0.0                  0.0                  0.0                  0.0                  0.0                  0.0                  0.0                  0.13725490196078433  0.9450980392156862   0.8823529411764706   0.6274509803921569   0.4235294117647059   0.00392156862745098  0.0                  0.0                  0.0                  0.0                  0.0                  0.0                  0.0                  0.0                  0.0                  0.0                 \n",
            " 0.0                  0.0                  0.0                  0.0                  0.0                  0.0                  0.0                  0.0                  0.0                  0.0                  0.0                  0.0                  0.0                  0.3176470588235294   0.9411764705882353   0.9921568627450981   0.9921568627450981   0.4666666666666667   0.09803921568627451  0.0                  0.0                  0.0                  0.0                  0.0                  0.0                  0.0                  0.0                  0.0                 \n",
            " 0.0                  0.0                  0.0                  0.0                  0.0                  0.0                  0.0                  0.0                  0.0                  0.0                  0.0                  0.0                  0.0                  0.0                  0.17647058823529413  0.7294117647058823   0.9921568627450981   0.9921568627450981   0.5882352941176471   0.10588235294117647  0.0                  0.0                  0.0                  0.0                  0.0                  0.0                  0.0                  0.0                 \n",
            " 0.0                  0.0                  0.0                  0.0                  0.0                  0.0                  0.0                  0.0                  0.0                  0.0                  0.0                  0.0                  0.0                  0.0                  0.0                  0.06274509803921569  0.36470588235294116  0.9882352941176471   0.9921568627450981   0.7333333333333333   0.0                  0.0                  0.0                  0.0                  0.0                  0.0                  0.0                  0.0                 \n",
            " 0.0                  0.0                  0.0                  0.0                  0.0                  0.0                  0.0                  0.0                  0.0                  0.0                  0.0                  0.0                  0.0                  0.0                  0.0                  0.0                  0.0                  0.9764705882352941   0.9921568627450981   0.9764705882352941   0.25098039215686274  0.0                  0.0                  0.0                  0.0                  0.0                  0.0                  0.0                 \n",
            " 0.0                  0.0                  0.0                  0.0                  0.0                  0.0                  0.0                  0.0                  0.0                  0.0                  0.0                  0.0                  0.0                  0.0                  0.1803921568627451   0.5098039215686274   0.7176470588235294   0.9921568627450981   0.9921568627450981   0.8117647058823529   0.00784313725490196  0.0                  0.0                  0.0                  0.0                  0.0                  0.0                  0.0                 \n",
            " 0.0                  0.0                  0.0                  0.0                  0.0                  0.0                  0.0                  0.0                  0.0                  0.0                  0.0                  0.0                  0.15294117647058825  0.5803921568627451   0.8980392156862745   0.9921568627450981   0.9921568627450981   0.9921568627450981   0.9803921568627451   0.7137254901960784   0.0                  0.0                  0.0                  0.0                  0.0                  0.0                  0.0                  0.0                 \n",
            " 0.0                  0.0                  0.0                  0.0                  0.0                  0.0                  0.0                  0.0                  0.0                  0.0                  0.09411764705882353  0.4470588235294118   0.8666666666666667   0.9921568627450981   0.9921568627450981   0.9921568627450981   0.9921568627450981   0.788235294117647    0.3058823529411765   0.0                  0.0                  0.0                  0.0                  0.0                  0.0                  0.0                  0.0                  0.0                 \n",
            " 0.0                  0.0                  0.0                  0.0                  0.0                  0.0                  0.0                  0.0                  0.09019607843137255  0.25882352941176473  0.8352941176470589   0.9921568627450981   0.9921568627450981   0.9921568627450981   0.9921568627450981   0.7764705882352941   0.3176470588235294   0.00784313725490196  0.0                  0.0                  0.0                  0.0                  0.0                  0.0                  0.0                  0.0                  0.0                  0.0                 \n",
            " 0.0                  0.0                  0.0                  0.0                  0.0                  0.0                  0.07058823529411765  0.6705882352941176   0.8588235294117647   0.9921568627450981   0.9921568627450981   0.9921568627450981   0.9921568627450981   0.7647058823529411   0.3137254901960784   0.03529411764705882  0.0                  0.0                  0.0                  0.0                  0.0                  0.0                  0.0                  0.0                  0.0                  0.0                  0.0                  0.0                 \n",
            " 0.0                  0.0                  0.0                  0.0                  0.21568627450980393  0.6745098039215687   0.8862745098039215   0.9921568627450981   0.9921568627450981   0.9921568627450981   0.9921568627450981   0.9568627450980393   0.5215686274509804   0.043137254901960784 0.0                  0.0                  0.0                  0.0                  0.0                  0.0                  0.0                  0.0                  0.0                  0.0                  0.0                  0.0                  0.0                  0.0                 \n",
            " 0.0                  0.0                  0.0                  0.0                  0.5333333333333333   0.9921568627450981   0.9921568627450981   0.9921568627450981   0.8313725490196079   0.5294117647058824   0.5176470588235295   0.06274509803921569  0.0                  0.0                  0.0                  0.0                  0.0                  0.0                  0.0                  0.0                  0.0                  0.0                  0.0                  0.0                  0.0                  0.0                  0.0                  0.0                 \n",
            " 0.0                  0.0                  0.0                  0.0                  0.0                  0.0                  0.0                  0.0                  0.0                  0.0                  0.0                  0.0                  0.0                  0.0                  0.0                  0.0                  0.0                  0.0                  0.0                  0.0                  0.0                  0.0                  0.0                  0.0                  0.0                  0.0                  0.0                  0.0                 \n",
            " 0.0                  0.0                  0.0                  0.0                  0.0                  0.0                  0.0                  0.0                  0.0                  0.0                  0.0                  0.0                  0.0                  0.0                  0.0                  0.0                  0.0                  0.0                  0.0                  0.0                  0.0                  0.0                  0.0                  0.0                  0.0                  0.0                  0.0                  0.0                 \n",
            " 0.0                  0.0                  0.0                  0.0                  0.0                  0.0                  0.0                  0.0                  0.0                  0.0                  0.0                  0.0                  0.0                  0.0                  0.0                  0.0                  0.0                  0.0                  0.0                  0.0                  0.0                  0.0                  0.0                  0.0                  0.0                  0.0                  0.0                  0.0                 \n"
          ]
        }
      ]
    },
    {
      "cell_type": "code",
      "source": [
        "\n",
        "#######################################################################\n",
        "#flattening the 2d array into 1d\n",
        "x_train_flattened = X_train.reshape(len(X_train),28*28)\n",
        "x_test_flattened = X_test.reshape(len(X_test),28*28)"
      ],
      "metadata": {
        "id": "im9cfX2Y5_Rs"
      },
      "execution_count": null,
      "outputs": []
    },
    {
      "cell_type": "code",
      "source": [
        "print(x_train_flattened.shape)\n",
        "print(x_test_flattened.shape)"
      ],
      "metadata": {
        "colab": {
          "base_uri": "https://localhost:8080/"
        },
        "id": "8Z2MA4iBBFtN",
        "outputId": "f58e2e89-b9cf-480e-9d38-6a0fc5bfc2de"
      },
      "execution_count": null,
      "outputs": [
        {
          "output_type": "stream",
          "name": "stdout",
          "text": [
            "(60000, 784)\n",
            "(10000, 784)\n"
          ]
        }
      ]
    },
    {
      "cell_type": "code",
      "source": [
        "x_train_flattened[0]"
      ],
      "metadata": {
        "colab": {
          "base_uri": "https://localhost:8080/"
        },
        "id": "p4HcOof5BFzd",
        "outputId": "cd7aec82-0977-4d6b-c97f-80bd04227e00"
      },
      "execution_count": null,
      "outputs": [
        {
          "output_type": "execute_result",
          "data": {
            "text/plain": [
              "array([0.        , 0.        , 0.        , 0.        , 0.        ,\n",
              "       0.        , 0.        , 0.        , 0.        , 0.        ,\n",
              "       0.        , 0.        , 0.        , 0.        , 0.        ,\n",
              "       0.        , 0.        , 0.        , 0.        , 0.        ,\n",
              "       0.        , 0.        , 0.        , 0.        , 0.        ,\n",
              "       0.        , 0.        , 0.        , 0.        , 0.        ,\n",
              "       0.        , 0.        , 0.        , 0.        , 0.        ,\n",
              "       0.        , 0.        , 0.        , 0.        , 0.        ,\n",
              "       0.        , 0.        , 0.        , 0.        , 0.        ,\n",
              "       0.        , 0.        , 0.        , 0.        , 0.        ,\n",
              "       0.        , 0.        , 0.        , 0.        , 0.        ,\n",
              "       0.        , 0.        , 0.        , 0.        , 0.        ,\n",
              "       0.        , 0.        , 0.        , 0.        , 0.        ,\n",
              "       0.        , 0.        , 0.        , 0.        , 0.        ,\n",
              "       0.        , 0.        , 0.        , 0.        , 0.        ,\n",
              "       0.        , 0.        , 0.        , 0.        , 0.        ,\n",
              "       0.        , 0.        , 0.        , 0.        , 0.        ,\n",
              "       0.        , 0.        , 0.        , 0.        , 0.        ,\n",
              "       0.        , 0.        , 0.        , 0.        , 0.        ,\n",
              "       0.        , 0.        , 0.        , 0.        , 0.        ,\n",
              "       0.        , 0.        , 0.        , 0.        , 0.        ,\n",
              "       0.        , 0.        , 0.        , 0.        , 0.        ,\n",
              "       0.        , 0.        , 0.        , 0.        , 0.        ,\n",
              "       0.        , 0.        , 0.        , 0.        , 0.        ,\n",
              "       0.        , 0.        , 0.        , 0.        , 0.        ,\n",
              "       0.        , 0.        , 0.        , 0.        , 0.        ,\n",
              "       0.        , 0.        , 0.        , 0.        , 0.        ,\n",
              "       0.        , 0.        , 0.        , 0.        , 0.        ,\n",
              "       0.        , 0.        , 0.        , 0.        , 0.        ,\n",
              "       0.        , 0.        , 0.        , 0.        , 0.        ,\n",
              "       0.        , 0.        , 0.01176471, 0.07058824, 0.07058824,\n",
              "       0.07058824, 0.49411765, 0.53333333, 0.68627451, 0.10196078,\n",
              "       0.65098039, 1.        , 0.96862745, 0.49803922, 0.        ,\n",
              "       0.        , 0.        , 0.        , 0.        , 0.        ,\n",
              "       0.        , 0.        , 0.        , 0.        , 0.        ,\n",
              "       0.        , 0.11764706, 0.14117647, 0.36862745, 0.60392157,\n",
              "       0.66666667, 0.99215686, 0.99215686, 0.99215686, 0.99215686,\n",
              "       0.99215686, 0.88235294, 0.6745098 , 0.99215686, 0.94901961,\n",
              "       0.76470588, 0.25098039, 0.        , 0.        , 0.        ,\n",
              "       0.        , 0.        , 0.        , 0.        , 0.        ,\n",
              "       0.        , 0.        , 0.        , 0.19215686, 0.93333333,\n",
              "       0.99215686, 0.99215686, 0.99215686, 0.99215686, 0.99215686,\n",
              "       0.99215686, 0.99215686, 0.99215686, 0.98431373, 0.36470588,\n",
              "       0.32156863, 0.32156863, 0.21960784, 0.15294118, 0.        ,\n",
              "       0.        , 0.        , 0.        , 0.        , 0.        ,\n",
              "       0.        , 0.        , 0.        , 0.        , 0.        ,\n",
              "       0.        , 0.07058824, 0.85882353, 0.99215686, 0.99215686,\n",
              "       0.99215686, 0.99215686, 0.99215686, 0.77647059, 0.71372549,\n",
              "       0.96862745, 0.94509804, 0.        , 0.        , 0.        ,\n",
              "       0.        , 0.        , 0.        , 0.        , 0.        ,\n",
              "       0.        , 0.        , 0.        , 0.        , 0.        ,\n",
              "       0.        , 0.        , 0.        , 0.        , 0.        ,\n",
              "       0.31372549, 0.61176471, 0.41960784, 0.99215686, 0.99215686,\n",
              "       0.80392157, 0.04313725, 0.        , 0.16862745, 0.60392157,\n",
              "       0.        , 0.        , 0.        , 0.        , 0.        ,\n",
              "       0.        , 0.        , 0.        , 0.        , 0.        ,\n",
              "       0.        , 0.        , 0.        , 0.        , 0.        ,\n",
              "       0.        , 0.        , 0.        , 0.        , 0.05490196,\n",
              "       0.00392157, 0.60392157, 0.99215686, 0.35294118, 0.        ,\n",
              "       0.        , 0.        , 0.        , 0.        , 0.        ,\n",
              "       0.        , 0.        , 0.        , 0.        , 0.        ,\n",
              "       0.        , 0.        , 0.        , 0.        , 0.        ,\n",
              "       0.        , 0.        , 0.        , 0.        , 0.        ,\n",
              "       0.        , 0.        , 0.        , 0.        , 0.54509804,\n",
              "       0.99215686, 0.74509804, 0.00784314, 0.        , 0.        ,\n",
              "       0.        , 0.        , 0.        , 0.        , 0.        ,\n",
              "       0.        , 0.        , 0.        , 0.        , 0.        ,\n",
              "       0.        , 0.        , 0.        , 0.        , 0.        ,\n",
              "       0.        , 0.        , 0.        , 0.        , 0.        ,\n",
              "       0.        , 0.        , 0.04313725, 0.74509804, 0.99215686,\n",
              "       0.2745098 , 0.        , 0.        , 0.        , 0.        ,\n",
              "       0.        , 0.        , 0.        , 0.        , 0.        ,\n",
              "       0.        , 0.        , 0.        , 0.        , 0.        ,\n",
              "       0.        , 0.        , 0.        , 0.        , 0.        ,\n",
              "       0.        , 0.        , 0.        , 0.        , 0.        ,\n",
              "       0.        , 0.1372549 , 0.94509804, 0.88235294, 0.62745098,\n",
              "       0.42352941, 0.00392157, 0.        , 0.        , 0.        ,\n",
              "       0.        , 0.        , 0.        , 0.        , 0.        ,\n",
              "       0.        , 0.        , 0.        , 0.        , 0.        ,\n",
              "       0.        , 0.        , 0.        , 0.        , 0.        ,\n",
              "       0.        , 0.        , 0.        , 0.        , 0.        ,\n",
              "       0.31764706, 0.94117647, 0.99215686, 0.99215686, 0.46666667,\n",
              "       0.09803922, 0.        , 0.        , 0.        , 0.        ,\n",
              "       0.        , 0.        , 0.        , 0.        , 0.        ,\n",
              "       0.        , 0.        , 0.        , 0.        , 0.        ,\n",
              "       0.        , 0.        , 0.        , 0.        , 0.        ,\n",
              "       0.        , 0.        , 0.        , 0.        , 0.17647059,\n",
              "       0.72941176, 0.99215686, 0.99215686, 0.58823529, 0.10588235,\n",
              "       0.        , 0.        , 0.        , 0.        , 0.        ,\n",
              "       0.        , 0.        , 0.        , 0.        , 0.        ,\n",
              "       0.        , 0.        , 0.        , 0.        , 0.        ,\n",
              "       0.        , 0.        , 0.        , 0.        , 0.        ,\n",
              "       0.        , 0.        , 0.        , 0.0627451 , 0.36470588,\n",
              "       0.98823529, 0.99215686, 0.73333333, 0.        , 0.        ,\n",
              "       0.        , 0.        , 0.        , 0.        , 0.        ,\n",
              "       0.        , 0.        , 0.        , 0.        , 0.        ,\n",
              "       0.        , 0.        , 0.        , 0.        , 0.        ,\n",
              "       0.        , 0.        , 0.        , 0.        , 0.        ,\n",
              "       0.        , 0.        , 0.        , 0.97647059, 0.99215686,\n",
              "       0.97647059, 0.25098039, 0.        , 0.        , 0.        ,\n",
              "       0.        , 0.        , 0.        , 0.        , 0.        ,\n",
              "       0.        , 0.        , 0.        , 0.        , 0.        ,\n",
              "       0.        , 0.        , 0.        , 0.        , 0.        ,\n",
              "       0.        , 0.        , 0.        , 0.18039216, 0.50980392,\n",
              "       0.71764706, 0.99215686, 0.99215686, 0.81176471, 0.00784314,\n",
              "       0.        , 0.        , 0.        , 0.        , 0.        ,\n",
              "       0.        , 0.        , 0.        , 0.        , 0.        ,\n",
              "       0.        , 0.        , 0.        , 0.        , 0.        ,\n",
              "       0.        , 0.        , 0.        , 0.        , 0.15294118,\n",
              "       0.58039216, 0.89803922, 0.99215686, 0.99215686, 0.99215686,\n",
              "       0.98039216, 0.71372549, 0.        , 0.        , 0.        ,\n",
              "       0.        , 0.        , 0.        , 0.        , 0.        ,\n",
              "       0.        , 0.        , 0.        , 0.        , 0.        ,\n",
              "       0.        , 0.        , 0.        , 0.        , 0.        ,\n",
              "       0.09411765, 0.44705882, 0.86666667, 0.99215686, 0.99215686,\n",
              "       0.99215686, 0.99215686, 0.78823529, 0.30588235, 0.        ,\n",
              "       0.        , 0.        , 0.        , 0.        , 0.        ,\n",
              "       0.        , 0.        , 0.        , 0.        , 0.        ,\n",
              "       0.        , 0.        , 0.        , 0.        , 0.        ,\n",
              "       0.        , 0.09019608, 0.25882353, 0.83529412, 0.99215686,\n",
              "       0.99215686, 0.99215686, 0.99215686, 0.77647059, 0.31764706,\n",
              "       0.00784314, 0.        , 0.        , 0.        , 0.        ,\n",
              "       0.        , 0.        , 0.        , 0.        , 0.        ,\n",
              "       0.        , 0.        , 0.        , 0.        , 0.        ,\n",
              "       0.        , 0.        , 0.07058824, 0.67058824, 0.85882353,\n",
              "       0.99215686, 0.99215686, 0.99215686, 0.99215686, 0.76470588,\n",
              "       0.31372549, 0.03529412, 0.        , 0.        , 0.        ,\n",
              "       0.        , 0.        , 0.        , 0.        , 0.        ,\n",
              "       0.        , 0.        , 0.        , 0.        , 0.        ,\n",
              "       0.        , 0.        , 0.        , 0.21568627, 0.6745098 ,\n",
              "       0.88627451, 0.99215686, 0.99215686, 0.99215686, 0.99215686,\n",
              "       0.95686275, 0.52156863, 0.04313725, 0.        , 0.        ,\n",
              "       0.        , 0.        , 0.        , 0.        , 0.        ,\n",
              "       0.        , 0.        , 0.        , 0.        , 0.        ,\n",
              "       0.        , 0.        , 0.        , 0.        , 0.        ,\n",
              "       0.        , 0.53333333, 0.99215686, 0.99215686, 0.99215686,\n",
              "       0.83137255, 0.52941176, 0.51764706, 0.0627451 , 0.        ,\n",
              "       0.        , 0.        , 0.        , 0.        , 0.        ,\n",
              "       0.        , 0.        , 0.        , 0.        , 0.        ,\n",
              "       0.        , 0.        , 0.        , 0.        , 0.        ,\n",
              "       0.        , 0.        , 0.        , 0.        , 0.        ,\n",
              "       0.        , 0.        , 0.        , 0.        , 0.        ,\n",
              "       0.        , 0.        , 0.        , 0.        , 0.        ,\n",
              "       0.        , 0.        , 0.        , 0.        , 0.        ,\n",
              "       0.        , 0.        , 0.        , 0.        , 0.        ,\n",
              "       0.        , 0.        , 0.        , 0.        , 0.        ,\n",
              "       0.        , 0.        , 0.        , 0.        , 0.        ,\n",
              "       0.        , 0.        , 0.        , 0.        , 0.        ,\n",
              "       0.        , 0.        , 0.        , 0.        , 0.        ,\n",
              "       0.        , 0.        , 0.        , 0.        , 0.        ,\n",
              "       0.        , 0.        , 0.        , 0.        , 0.        ,\n",
              "       0.        , 0.        , 0.        , 0.        , 0.        ,\n",
              "       0.        , 0.        , 0.        , 0.        , 0.        ,\n",
              "       0.        , 0.        , 0.        , 0.        , 0.        ,\n",
              "       0.        , 0.        , 0.        , 0.        , 0.        ,\n",
              "       0.        , 0.        , 0.        , 0.        , 0.        ,\n",
              "       0.        , 0.        , 0.        , 0.        ])"
            ]
          },
          "metadata": {},
          "execution_count": 23
        }
      ]
    },
    {
      "cell_type": "code",
      "source": [],
      "metadata": {
        "id": "1P7dpkhyBxRN"
      },
      "execution_count": null,
      "outputs": []
    },
    {
      "cell_type": "markdown",
      "source": [
        "# Artificial Neural Network"
      ],
      "metadata": {
        "id": "6LPjyHbes9Zm"
      }
    },
    {
      "cell_type": "code",
      "source": [
        "####################################################################################################\n",
        "model = keras.Sequential([\n",
        "    keras.layers.Flatten(input_shape=(28*28,)) ,\n",
        "    keras.layers.Dense(32, input_shape=(784,), activation = 'relu'),\n",
        "    keras.layers.Dense(10, activation = 'softmax')\n",
        "])\n",
        "\n",
        "model.compile(optimizer='adam', loss = 'sparse_categorical_crossentropy', metrics = ['accuracy']\n",
        ")\n",
        "\n",
        "model.fit(x_train_flattened, y_train, epochs = 10)"
      ],
      "metadata": {
        "colab": {
          "base_uri": "https://localhost:8080/"
        },
        "id": "-o8rgBDkBxXa",
        "outputId": "4ce9a8f0-872f-489e-98cf-caf415465737"
      },
      "execution_count": null,
      "outputs": [
        {
          "output_type": "stream",
          "name": "stderr",
          "text": [
            "/usr/local/lib/python3.10/dist-packages/keras/src/layers/reshaping/flatten.py:37: UserWarning: Do not pass an `input_shape`/`input_dim` argument to a layer. When using Sequential models, prefer using an `Input(shape)` object as the first layer in the model instead.\n",
            "  super().__init__(**kwargs)\n",
            "/usr/local/lib/python3.10/dist-packages/keras/src/layers/core/dense.py:87: UserWarning: Do not pass an `input_shape`/`input_dim` argument to a layer. When using Sequential models, prefer using an `Input(shape)` object as the first layer in the model instead.\n",
            "  super().__init__(activity_regularizer=activity_regularizer, **kwargs)\n"
          ]
        },
        {
          "output_type": "stream",
          "name": "stdout",
          "text": [
            "Epoch 1/10\n",
            "\u001b[1m1875/1875\u001b[0m \u001b[32m━━━━━━━━━━━━━━━━━━━━\u001b[0m\u001b[37m\u001b[0m \u001b[1m5s\u001b[0m 2ms/step - accuracy: 0.8407 - loss: 0.5781\n",
            "Epoch 2/10\n",
            "\u001b[1m1875/1875\u001b[0m \u001b[32m━━━━━━━━━━━━━━━━━━━━\u001b[0m\u001b[37m\u001b[0m \u001b[1m6s\u001b[0m 3ms/step - accuracy: 0.9410 - loss: 0.2005\n",
            "Epoch 3/10\n",
            "\u001b[1m1875/1875\u001b[0m \u001b[32m━━━━━━━━━━━━━━━━━━━━\u001b[0m\u001b[37m\u001b[0m \u001b[1m9s\u001b[0m 3ms/step - accuracy: 0.9535 - loss: 0.1571\n",
            "Epoch 4/10\n",
            "\u001b[1m1875/1875\u001b[0m \u001b[32m━━━━━━━━━━━━━━━━━━━━\u001b[0m\u001b[37m\u001b[0m \u001b[1m8s\u001b[0m 4ms/step - accuracy: 0.9620 - loss: 0.1310\n",
            "Epoch 5/10\n",
            "\u001b[1m1875/1875\u001b[0m \u001b[32m━━━━━━━━━━━━━━━━━━━━\u001b[0m\u001b[37m\u001b[0m \u001b[1m5s\u001b[0m 2ms/step - accuracy: 0.9675 - loss: 0.1103\n",
            "Epoch 6/10\n",
            "\u001b[1m1875/1875\u001b[0m \u001b[32m━━━━━━━━━━━━━━━━━━━━\u001b[0m\u001b[37m\u001b[0m \u001b[1m6s\u001b[0m 3ms/step - accuracy: 0.9718 - loss: 0.0942\n",
            "Epoch 7/10\n",
            "\u001b[1m1875/1875\u001b[0m \u001b[32m━━━━━━━━━━━━━━━━━━━━\u001b[0m\u001b[37m\u001b[0m \u001b[1m5s\u001b[0m 2ms/step - accuracy: 0.9755 - loss: 0.0808\n",
            "Epoch 8/10\n",
            "\u001b[1m1875/1875\u001b[0m \u001b[32m━━━━━━━━━━━━━━━━━━━━\u001b[0m\u001b[37m\u001b[0m \u001b[1m6s\u001b[0m 3ms/step - accuracy: 0.9757 - loss: 0.0788\n",
            "Epoch 9/10\n",
            "\u001b[1m1875/1875\u001b[0m \u001b[32m━━━━━━━━━━━━━━━━━━━━\u001b[0m\u001b[37m\u001b[0m \u001b[1m6s\u001b[0m 3ms/step - accuracy: 0.9791 - loss: 0.0680\n",
            "Epoch 10/10\n",
            "\u001b[1m1875/1875\u001b[0m \u001b[32m━━━━━━━━━━━━━━━━━━━━\u001b[0m\u001b[37m\u001b[0m \u001b[1m9s\u001b[0m 2ms/step - accuracy: 0.9802 - loss: 0.0633\n"
          ]
        },
        {
          "output_type": "execute_result",
          "data": {
            "text/plain": [
              "<keras.src.callbacks.history.History at 0x7d31cbd05810>"
            ]
          },
          "metadata": {},
          "execution_count": 65
        }
      ]
    },
    {
      "cell_type": "code",
      "source": [
        "####################################################################################################\n",
        "model.evaluate(x_test_flattened , y_test)"
      ],
      "metadata": {
        "colab": {
          "base_uri": "https://localhost:8080/"
        },
        "id": "lwLJeDvMBxeQ",
        "outputId": "7a807b91-8b7a-4cbd-dc63-77136d252e18"
      },
      "execution_count": null,
      "outputs": [
        {
          "output_type": "stream",
          "name": "stdout",
          "text": [
            "\u001b[1m313/313\u001b[0m \u001b[32m━━━━━━━━━━━━━━━━━━━━\u001b[0m\u001b[37m\u001b[0m \u001b[1m1s\u001b[0m 3ms/step - accuracy: 0.9648 - loss: 0.1233\n"
          ]
        },
        {
          "output_type": "execute_result",
          "data": {
            "text/plain": [
              "[0.10726501792669296, 0.9689000248908997]"
            ]
          },
          "metadata": {},
          "execution_count": 66
        }
      ]
    },
    {
      "cell_type": "code",
      "source": [
        "####################################################################################################\n",
        "# give the index what you want and show the digit ,then predict it with further code\n",
        "index = 0\n",
        "test_img = X_test[index]\n",
        "print(f\"X_test[{index}] label is: \",y_test[index])\n",
        "print()\n",
        "plt.figure(figsize=(1,1))\n",
        "plt.imshow(test_img,cmap='gray')\n",
        "plt.show()"
      ],
      "metadata": {
        "colab": {
          "base_uri": "https://localhost:8080/",
          "height": 177
        },
        "id": "KsYphcxnFd5O",
        "outputId": "d965debc-7252-458d-e852-b965d86e20e4"
      },
      "execution_count": null,
      "outputs": [
        {
          "output_type": "stream",
          "name": "stdout",
          "text": [
            "X_test[0] label is:  7\n",
            "\n"
          ]
        },
        {
          "output_type": "display_data",
          "data": {
            "text/plain": [
              "<Figure size 100x100 with 1 Axes>"
            ],
            "image/png": "[encoded data removed]"
          },
          "metadata": {}
        }
      ]
    },
    {
      "cell_type": "markdown",
      "source": [
        "####################################################################################################\n",
        "#ANN Prediction\n"
      ],
      "metadata": {
        "id": "6UbjwTpxFUei"
      }
    },
    {
      "cell_type": "code",
      "source": [
        "y_predicted = model.predict(x_test_flattened)\n",
        "np.argmax(y_predicted[0])"
      ],
      "metadata": {
        "id": "gnYWDpmpHHJy",
        "colab": {
          "base_uri": "https://localhost:8080/"
        },
        "outputId": "18c95050-5882-466d-85aa-0f10dcd9368f"
      },
      "execution_count": null,
      "outputs": [
        {
          "output_type": "stream",
          "name": "stdout",
          "text": [
            "\u001b[1m313/313\u001b[0m \u001b[32m━━━━━━━━━━━━━━━━━━━━\u001b[0m\u001b[37m\u001b[0m \u001b[1m1s\u001b[0m 2ms/step\n"
          ]
        },
        {
          "output_type": "execute_result",
          "data": {
            "text/plain": [
              "7"
            ]
          },
          "metadata": {},
          "execution_count": 68
        }
      ]
    },
    {
      "cell_type": "code",
      "source": [
        "#for confusion matrix"
      ],
      "metadata": {
        "id": "oGWDXtd1HHPo"
      },
      "execution_count": null,
      "outputs": []
    },
    {
      "cell_type": "code",
      "source": [
        "y_predicted_labels = [np.argmax(i) for i in y_predicted]\n",
        "print(y_predicted_labels[:5])"
      ],
      "metadata": {
        "id": "Dyh0xHBCG9uI",
        "colab": {
          "base_uri": "https://localhost:8080/"
        },
        "outputId": "295b6b38-e2b6-4c2a-f9ec-b9d88826bece"
      },
      "execution_count": null,
      "outputs": [
        {
          "output_type": "stream",
          "name": "stdout",
          "text": [
            "[7, 2, 1, 0, 4]\n"
          ]
        }
      ]
    },
    {
      "cell_type": "code",
      "source": [
        "y_test[:5]"
      ],
      "metadata": {
        "id": "ucVsSNTOG90_",
        "colab": {
          "base_uri": "https://localhost:8080/"
        },
        "outputId": "9d6dd790-2b24-4b17-e12f-b76b34625fe4"
      },
      "execution_count": null,
      "outputs": [
        {
          "output_type": "execute_result",
          "data": {
            "text/plain": [
              "array([7, 2, 1, 0, 4], dtype=uint8)"
            ]
          },
          "metadata": {},
          "execution_count": 70
        }
      ]
    },
    {
      "cell_type": "code",
      "source": [
        "cm = tf.math.confusion_matrix(labels=y_test,predictions = y_predicted_labels)\n",
        "cm"
      ],
      "metadata": {
        "id": "zeW2J92pGP76",
        "colab": {
          "base_uri": "https://localhost:8080/"
        },
        "outputId": "79988a44-7cd8-4ffd-e029-615018d62feb"
      },
      "execution_count": null,
      "outputs": [
        {
          "output_type": "execute_result",
          "data": {
            "text/plain": [
              "<tf.Tensor: shape=(10, 10), dtype=int32, numpy=\n",
              "array([[ 970,    0,    3,    0,    0,    0,    2,    1,    4,    0],\n",
              "       [   0, 1118,    4,    2,    0,    1,    3,    1,    6,    0],\n",
              "       [   4,    6,  992,    6,    3,    1,    3,    5,   11,    1],\n",
              "       [   0,    0,    3,  982,    1,    7,    0,    6,    8,    3],\n",
              "       [   1,    1,    2,    0,  946,    0,    7,    2,    6,   17],\n",
              "       [   3,    2,    0,    9,    3,  862,    4,    1,    6,    2],\n",
              "       [   7,    3,    2,    0,    3,    9,  930,    0,    4,    0],\n",
              "       [   2,    9,    6,    7,    2,    0,    0,  982,    6,   14],\n",
              "       [   6,    0,    3,    6,    4,    3,    4,    2,  945,    1],\n",
              "       [   5,    5,    1,    6,   12,    6,    0,    5,    7,  962]],\n",
              "      dtype=int32)>"
            ]
          },
          "metadata": {},
          "execution_count": 71
        }
      ]
    },
    {
      "cell_type": "code",
      "source": [
        "import seaborn as sns\n",
        "plt.figure(figsize = (10,7))\n",
        "sns.heatmap(cm, annot = True ,fmt = 'd')\n",
        "plt.xlabel('Predicted')\n",
        "plt.ylabel('Truth')\n",
        "# in black box are errors"
      ],
      "metadata": {
        "id": "F_fbuXjFHzj1"
      },
      "execution_count": null,
      "outputs": []
    },
    {
      "cell_type": "code",
      "source": [],
      "metadata": {
        "id": "LuSGVLTfYXp4"
      },
      "execution_count": null,
      "outputs": []
    },
    {
      "cell_type": "markdown",
      "source": [
        "#ANN all in one"
      ],
      "metadata": {
        "id": "fj3Utja-zdQm"
      }
    },
    {
      "cell_type": "code",
      "source": [
        "\n",
        "from keras.models import Sequential\n",
        "from keras.layers import Dense, Dropout, Flatten\n",
        "from keras.layers.convolutional import Conv2D, MaxPooling2D\n",
        "from keras.utils import np_utils\n",
        "from keras.datasets import mnist\n",
        "\n",
        "# Load the MNIST dataset\n",
        "(X_train, y_train), (X_test, y_test) = mnist.load_data()\n",
        "\n",
        "# Normalize pixel values between 0 and 1\n",
        "X_train = X_train / 255\n",
        "X_test = X_test / 255\n",
        "\n",
        "#Flatting 2d array into 1d\n",
        "x_train_flattened = X_train.reshape(len(X_train),28*28)\n",
        "x_test_flattened = X_test.reshape(len(X_test),28*28)\n",
        "\n",
        "# Define the model architecture\n",
        "model = Sequential()\n",
        "model.add(Dense(128, input_dim=28*28 , activation='relu'))\n",
        "model.add(Dropout(0.2))\n",
        "model.add(Dense(164, activation='relu'))\n",
        "model.add(Dropout(0.2))\n",
        "model.add(Dense(10, activation='softmax'))\n",
        "\n",
        "# Compile the model\n",
        "model.compile(loss='sparse_categorical_crossentropy', optimizer='adam', metrics=['accuracy'])\n",
        "\n",
        "# Train the model\n",
        "model.fit(x_train_flattened, y_train, epochs=10, batch_size=50)\n",
        "\n",
        "# Evaluate the model on the test set\n",
        "score = model.evaluate(x_test_flattened, y_test, verbose=0)\n",
        "print('Test accuracy:', score[1])\n",
        "print(score)"
      ],
      "metadata": {
        "id": "SgQGPV8DYdXH"
      },
      "execution_count": null,
      "outputs": []
    },
    {
      "cell_type": "code",
      "source": [],
      "metadata": {
        "id": "B4GPqzz_zInE"
      },
      "execution_count": null,
      "outputs": []
    },
    {
      "cell_type": "code",
      "source": [],
      "metadata": {
        "id": "blrklydTzIqL"
      },
      "execution_count": null,
      "outputs": []
    },
    {
      "cell_type": "markdown",
      "source": [
        "#CNN (All in one)"
      ],
      "metadata": {
        "id": "ep9F1A9gzieC"
      }
    },
    {
      "cell_type": "code",
      "source": [
        "\n",
        "import tensorflow as tf\n",
        "from tensorflow import keras\n",
        "from keras.datasets import mnist\n",
        "\n",
        "\n",
        "(x_train,y_train) , (x_test, y_test) = mnist.load_data()\n",
        "\n",
        "print(x_train.shape)\n",
        "print(y_train.shape)\n",
        "print(x_test.shape)\n",
        "print(y_test.shape)\n",
        "\n",
        "x_train = x_train / 255\n",
        "x_test = x_test / 255\n",
        "\n",
        "x_train_flattened = x_train.reshape(len(x_train),28*28)\n",
        "x_test_flattened = x_test.reshape(len(x_test),28*28)\n",
        "print(x_train_flattened.shape)\n",
        "print(x_test_flattened.shape)\n",
        "\n",
        "\n",
        "\n",
        "from keras.models import Sequential\n",
        "from keras.layers import Dense\n",
        "cnn_model = Sequential()\n",
        "cnn_model.add(Dense(128,input_dim=28*28,activation='relu'))\n",
        "cnn_model.add(Dense(164,activation='relu'))\n",
        "cnn_model.add(Dense(64,activation='relu'))\n",
        "cnn_model.add(Dense(64,activation='relu'))\n",
        "cnn_model.add(Dense(10,activation='softmax'))\n",
        "\n",
        "cnn_model.compile(loss='sparse_categorical_crossentropy' , optimizer='Adam' , metrics=['accuracy'])\n",
        "\n",
        "history = cnn_model.fit(x_train_flattened,y_train,epochs=10)\n",
        "\n",
        "score = cnn_model.evaluate(x_test_flattened,y_test)\n",
        "print(score)\n",
        "\n"
      ],
      "metadata": {
        "id": "c16-xMj3zItC",
        "colab": {
          "base_uri": "https://localhost:8080/"
        },
        "outputId": "0fb1ef85-64af-4317-f6d2-ac33fc559859"
      },
      "execution_count": null,
      "outputs": [
        {
          "output_type": "stream",
          "name": "stdout",
          "text": [
            "(60000, 28, 28)\n",
            "(60000,)\n",
            "(10000, 28, 28)\n",
            "(10000,)\n",
            "(60000, 784)\n",
            "(10000, 784)\n"
          ]
        },
        {
          "output_type": "stream",
          "name": "stderr",
          "text": [
            "/usr/local/lib/python3.10/dist-packages/keras/src/layers/core/dense.py:87: UserWarning: Do not pass an `input_shape`/`input_dim` argument to a layer. When using Sequential models, prefer using an `Input(shape)` object as the first layer in the model instead.\n",
            "  super().__init__(activity_regularizer=activity_regularizer, **kwargs)\n"
          ]
        },
        {
          "output_type": "stream",
          "name": "stdout",
          "text": [
            "Epoch 1/10\n",
            "\u001b[1m1875/1875\u001b[0m \u001b[32m━━━━━━━━━━━━━━━━━━━━\u001b[0m\u001b[37m\u001b[0m \u001b[1m10s\u001b[0m 4ms/step - accuracy: 0.8649 - loss: 0.4368\n",
            "Epoch 2/10\n",
            "\u001b[1m1875/1875\u001b[0m \u001b[32m━━━━━━━━━━━━━━━━━━━━\u001b[0m\u001b[37m\u001b[0m \u001b[1m10s\u001b[0m 4ms/step - accuracy: 0.9674 - loss: 0.1052\n",
            "Epoch 3/10\n",
            "\u001b[1m1875/1875\u001b[0m \u001b[32m━━━━━━━━━━━━━━━━━━━━\u001b[0m\u001b[37m\u001b[0m \u001b[1m9s\u001b[0m 5ms/step - accuracy: 0.9758 - loss: 0.0786\n",
            "Epoch 4/10\n",
            "\u001b[1m1875/1875\u001b[0m \u001b[32m━━━━━━━━━━━━━━━━━━━━\u001b[0m\u001b[37m\u001b[0m \u001b[1m10s\u001b[0m 5ms/step - accuracy: 0.9832 - loss: 0.0553\n",
            "Epoch 5/10\n",
            "\u001b[1m1875/1875\u001b[0m \u001b[32m━━━━━━━━━━━━━━━━━━━━\u001b[0m\u001b[37m\u001b[0m \u001b[1m8s\u001b[0m 4ms/step - accuracy: 0.9855 - loss: 0.0458\n",
            "Epoch 6/10\n",
            "\u001b[1m1875/1875\u001b[0m \u001b[32m━━━━━━━━━━━━━━━━━━━━\u001b[0m\u001b[37m\u001b[0m \u001b[1m12s\u001b[0m 6ms/step - accuracy: 0.9865 - loss: 0.0415\n",
            "Epoch 7/10\n",
            "\u001b[1m1875/1875\u001b[0m \u001b[32m━━━━━━━━━━━━━━━━━━━━\u001b[0m\u001b[37m\u001b[0m \u001b[1m19s\u001b[0m 6ms/step - accuracy: 0.9897 - loss: 0.0328\n",
            "Epoch 8/10\n",
            "\u001b[1m1875/1875\u001b[0m \u001b[32m━━━━━━━━━━━━━━━━━━━━\u001b[0m\u001b[37m\u001b[0m \u001b[1m14s\u001b[0m 8ms/step - accuracy: 0.9907 - loss: 0.0291\n",
            "Epoch 9/10\n",
            "\u001b[1m1875/1875\u001b[0m \u001b[32m━━━━━━━━━━━━━━━━━━━━\u001b[0m\u001b[37m\u001b[0m \u001b[1m16s\u001b[0m 9ms/step - accuracy: 0.9909 - loss: 0.0287\n",
            "Epoch 10/10\n",
            "\u001b[1m1875/1875\u001b[0m \u001b[32m━━━━━━━━━━━━━━━━━━━━\u001b[0m\u001b[37m\u001b[0m \u001b[1m22s\u001b[0m 9ms/step - accuracy: 0.9936 - loss: 0.0214\n",
            "\u001b[1m313/313\u001b[0m \u001b[32m━━━━━━━━━━━━━━━━━━━━\u001b[0m\u001b[37m\u001b[0m \u001b[1m1s\u001b[0m 4ms/step - accuracy: 0.9741 - loss: 0.1184\n",
            "[0.09899455308914185, 0.9779999852180481]\n"
          ]
        }
      ]
    },
    {
      "cell_type": "markdown",
      "source": [
        "#CNN predictions"
      ],
      "metadata": {
        "id": "gWftpTbwHuql"
      }
    },
    {
      "cell_type": "code",
      "source": [
        "y_pred = cnn_model.predict(x_test_flattened)\n",
        "print(y_pred)"
      ],
      "metadata": {
        "id": "ssSi00n1zIvT",
        "colab": {
          "base_uri": "https://localhost:8080/"
        },
        "outputId": "de38a88d-25ee-460a-c293-c4c6309ca262"
      },
      "execution_count": null,
      "outputs": [
        {
          "output_type": "stream",
          "name": "stdout",
          "text": [
            "\u001b[1m313/313\u001b[0m \u001b[32m━━━━━━━━━━━━━━━━━━━━\u001b[0m\u001b[37m\u001b[0m \u001b[1m1s\u001b[0m 3ms/step\n",
            "[[3.6897001e-16 7.0348996e-12 2.7642858e-12 ... 9.9999994e-01\n",
            "  5.1507994e-16 3.1065660e-08]\n",
            " [1.8572565e-07 1.3098836e-09 9.9999958e-01 ... 1.6195656e-08\n",
            "  1.6290326e-09 1.4538662e-09]\n",
            " [3.4391110e-08 9.9989599e-01 2.5859231e-06 ... 4.4831331e-06\n",
            "  3.0885305e-05 8.5250831e-06]\n",
            " ...\n",
            " [1.0683014e-12 1.2174765e-09 9.1434913e-09 ... 1.0775108e-11\n",
            "  7.2232872e-11 6.5096692e-08]\n",
            " [1.3229958e-15 4.7572323e-20 3.8547830e-15 ... 3.3466493e-18\n",
            "  7.9466878e-07 4.9687867e-14]\n",
            " [5.9442679e-10 1.0137506e-14 3.8065491e-15 ... 4.4514358e-19\n",
            "  9.2999577e-13 1.7245155e-12]]\n"
          ]
        }
      ]
    },
    {
      "cell_type": "code",
      "source": [
        "from sklearn.metrics import accuracy_score\n",
        "\n",
        "y_pred_classes = np.argmax(y_pred, axis=1)\n",
        "accuracy = accuracy_score(y_test, y_pred_classes)\n",
        "print(\"Accuracy:\", accuracy)"
      ],
      "metadata": {
        "colab": {
          "base_uri": "https://localhost:8080/"
        },
        "id": "85XD5Z8yH2Ag",
        "outputId": "bf6e4a2d-482e-4fd5-ce54-2b6340aa4422"
      },
      "execution_count": null,
      "outputs": [
        {
          "output_type": "stream",
          "name": "stdout",
          "text": [
            "Accuracy: 0.978\n"
          ]
        }
      ]
    },
    {
      "cell_type": "code",
      "source": [],
      "metadata": {
        "id": "Uk8cccJmH2DS"
      },
      "execution_count": null,
      "outputs": []
    },
    {
      "cell_type": "code",
      "source": [],
      "metadata": {
        "id": "sAs8Nx-rH2G5"
      },
      "execution_count": null,
      "outputs": []
    },
    {
      "cell_type": "markdown",
      "source": [
        "\n",
        "\n",
        "\n",
        "\n",
        "---\n",
        "\n",
        "\n",
        "\n",
        "---\n",
        "\n",
        "\n",
        "\n",
        "---\n",
        "\n",
        "\n",
        "\n",
        "---\n",
        "\n",
        "\n",
        "---\n",
        "\n",
        "\n",
        "\n",
        "---\n",
        "\n",
        "\n"
      ],
      "metadata": {
        "id": "mHolWJiMIWXc"
      }
    },
    {
      "cell_type": "markdown",
      "source": [
        "#Other way to make same architecture of cnn"
      ],
      "metadata": {
        "id": "Apv4mXWnz0F5"
      }
    },
    {
      "cell_type": "code",
      "source": [
        "\"\"\"\n",
        "\n",
        "from tensorflow import keras\n",
        "from tensorflow.keras import layers\n",
        "\n",
        "model = keras.Sequential([\n",
        "    layers.Conv2D(32, (3, 3), activation='relu', input_shape=(28, 28, 1)),\n",
        "    layers.MaxPooling2D((2, 2)),\n",
        "    layers.Conv2D(64, (3, 3), activation='relu'),\n",
        "    layers.MaxPooling2D((2, 2)),\n",
        "    layers.Conv2D(64, (3, 3), activation='relu'),\n",
        "    layers.Flatten(),\n",
        "    layers.Dense(64, activation='relu'),\n",
        "    layers.Dense(10, activation='softmax')\n",
        "])\n",
        "\n",
        "model.compile(optimizer='adam', loss='sparse_categorical_crossentropy', metrics=['accuracy'])\n",
        "\n",
        "# model.fit(x_train, y_train, epochs=10)\n",
        "history = model.fit(x_train_flattened,y_train,epochs=10)\n",
        "\n",
        "score = model.evaluate(x_test_flattened,y_test)\n",
        "print(score)\n",
        "\"\"\""
      ],
      "metadata": {
        "id": "NSw3QVSasKnd"
      },
      "execution_count": null,
      "outputs": []
    },
    {
      "cell_type": "code",
      "source": [],
      "metadata": {
        "id": "1B9mhci8sKs-"
      },
      "execution_count": null,
      "outputs": []
    },
    {
      "cell_type": "markdown",
      "source": [
        "# For my own image of digit"
      ],
      "metadata": {
        "id": "ou-puUJ60SvM"
      }
    },
    {
      "cell_type": "code",
      "source": [
        "def process_img(link):\n",
        "  import cv2\n",
        "  import numpy as np\n",
        "  import matplotlib.pyplot as plt\n",
        "\n",
        "  dig_img = cv2.imread(link)\n",
        "\n",
        "  # Convert the image to grayscale\n",
        "  gray_img = cv2.cvtColor(dig_img, cv2.COLOR_BGR2GRAY)\n",
        "\n",
        "  inverted_img = 255 - gray_img\n",
        "\n",
        "  resized_img = cv2.resize(inverted_img, (28, 28))\n",
        "\n",
        "  resized_img = np.array(resized_img)\n",
        "\n",
        "  plt.figure(figsize=(2,2))\n",
        "  plt.imshow(resized_img,cmap='gray')\n",
        "  plt.show()\n",
        "\n",
        "  return resized_img\n"
      ],
      "metadata": {
        "id": "ElrgPU7Yo877"
      },
      "execution_count": null,
      "outputs": []
    },
    {
      "cell_type": "code",
      "source": [
        "my_img = process_img('/content/IMG-5.jpg')"
      ],
      "metadata": {
        "colab": {
          "base_uri": "https://localhost:8080/",
          "height": 217
        },
        "id": "boDLrt4ao8-T",
        "outputId": "496e1e70-a4cc-4ebb-bb50-9126516dc11a"
      },
      "execution_count": null,
      "outputs": [
        {
          "output_type": "display_data",
          "data": {
            "text/plain": [
              "<Figure size 200x200 with 1 Axes>"
            ],
            "image/png": "[encoded data removed]"
          },
          "metadata": {}
        }
      ]
    },
    {
      "cell_type": "code",
      "source": [
        "my_img_flattened = my_img.reshape(1,28*28)"
      ],
      "metadata": {
        "id": "JLSkGQJBo9DK"
      },
      "execution_count": null,
      "outputs": []
    },
    {
      "cell_type": "markdown",
      "source": [
        "# ANN model"
      ],
      "metadata": {
        "id": "2Lg4H6JL0Yt1"
      }
    },
    {
      "cell_type": "code",
      "source": [
        "my_predicted = model.predict(my_img_flattened)\n",
        "\n",
        "print(my_predicted)"
      ],
      "metadata": {
        "colab": {
          "base_uri": "https://localhost:8080/"
        },
        "id": "DJPBAOPx0xc8",
        "outputId": "c3fc708c-c452-4329-f14e-8ac2efa668e0"
      },
      "execution_count": null,
      "outputs": [
        {
          "output_type": "stream",
          "name": "stdout",
          "text": [
            "\u001b[1m1/1\u001b[0m \u001b[32m━━━━━━━━━━━━━━━━━━━━\u001b[0m\u001b[37m\u001b[0m \u001b[1m0s\u001b[0m 299ms/step\n",
            "[[0. 0. 1. 0. 0. 0. 0. 0. 0. 0.]]\n"
          ]
        }
      ]
    },
    {
      "cell_type": "code",
      "source": [
        "np.argmax(my_predicted[0])  # wrong prediction"
      ],
      "metadata": {
        "colab": {
          "base_uri": "https://localhost:8080/"
        },
        "id": "y4qhQPHs0xgd",
        "outputId": "3b303699-0fbf-404b-d85a-0f6385ebae48"
      },
      "execution_count": null,
      "outputs": [
        {
          "output_type": "execute_result",
          "data": {
            "text/plain": [
              "2"
            ]
          },
          "metadata": {},
          "execution_count": 75
        }
      ]
    },
    {
      "cell_type": "markdown",
      "source": [
        "# CNN model"
      ],
      "metadata": {
        "id": "Cl2pRrX02K6d"
      }
    },
    {
      "cell_type": "code",
      "source": [
        "my_predicted = cnn_model.predict(my_img_flattened)\n",
        "\n",
        "print(my_predicted)"
      ],
      "metadata": {
        "id": "SS0xJPWL2KLw",
        "colab": {
          "base_uri": "https://localhost:8080/"
        },
        "outputId": "d32f90f5-83f3-4c96-be01-3e0a783894b4"
      },
      "execution_count": null,
      "outputs": [
        {
          "output_type": "stream",
          "name": "stdout",
          "text": [
            "\u001b[1m1/1\u001b[0m \u001b[32m━━━━━━━━━━━━━━━━━━━━\u001b[0m\u001b[37m\u001b[0m \u001b[1m0s\u001b[0m 412ms/step\n",
            "[[0. 0. 0. 0. 0. 1. 0. 0. 0. 0.]]\n"
          ]
        }
      ]
    },
    {
      "cell_type": "code",
      "source": [
        "np.argmax(my_predicted[0])   # right prediction"
      ],
      "metadata": {
        "id": "TsBT09072KOe",
        "colab": {
          "base_uri": "https://localhost:8080/"
        },
        "outputId": "6b110353-c25b-4efa-81d6-6c761133a1da"
      },
      "execution_count": null,
      "outputs": [
        {
          "output_type": "execute_result",
          "data": {
            "text/plain": [
              "5"
            ]
          },
          "metadata": {},
          "execution_count": 15
        }
      ]
    },
    {
      "cell_type": "code",
      "source": [
        "\"\"\"  R E S U L T S\n",
        "\n",
        "CNN typically outperforms ANN in terms of accuracy due to its ability to capture spatial hierarchies in image data.\n",
        "ANN is faster to train but may not achieve the same level of accuracy as CNN, especially for image recognition tasks.\n",
        "\n",
        "\"\"\""
      ],
      "metadata": {
        "id": "1bd174k_2KRK"
      },
      "execution_count": null,
      "outputs": []
    },
    {
      "cell_type": "code",
      "source": [
        "# we can increase the complexity of the model(ann and cnn) in order to get better results."
      ],
      "metadata": {
        "id": "BAFqUdXC2KUh"
      },
      "execution_count": null,
      "outputs": []
    }
  ]
}